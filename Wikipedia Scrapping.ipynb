{
    "cells": [
        {
            "cell_type": "markdown",
            "metadata": {
                "collapsed": true
            },
            "source": "## Wikipedia Scrapping"
        },
        {
            "cell_type": "code",
            "execution_count": 1,
            "metadata": {},
            "outputs": [],
            "source": "import pandas as pd"
        },
        {
            "cell_type": "code",
            "execution_count": 10,
            "metadata": {},
            "outputs": [],
            "source": "#read the wiki page\ntoronto_df = pd.read_html('https://en.wikipedia.org/wiki/List_of_postal_codes_of_Canada:_M')[0]"
        },
        {
            "cell_type": "code",
            "execution_count": 22,
            "metadata": {},
            "outputs": [],
            "source": "#drop rows where Borough is not assigned\ntoronto_df = toronto_df.drop(toronto_df[toronto_df['Borough']=='Not assigned'].index)"
        },
        {
            "cell_type": "code",
            "execution_count": 40,
            "metadata": {},
            "outputs": [
                {
                    "data": {
                        "text/html": "<div>\n<style scoped>\n    .dataframe tbody tr th:only-of-type {\n        vertical-align: middle;\n    }\n\n    .dataframe tbody tr th {\n        vertical-align: top;\n    }\n\n    .dataframe thead th {\n        text-align: right;\n    }\n</style>\n<table border=\"1\" class=\"dataframe\">\n  <thead>\n    <tr style=\"text-align: right;\">\n      <th></th>\n      <th>Postal code</th>\n      <th>Borough</th>\n      <th>Neighborhood</th>\n    </tr>\n  </thead>\n  <tbody>\n    <tr>\n      <th>2</th>\n      <td>M3A</td>\n      <td>North York</td>\n      <td>Parkwoods</td>\n    </tr>\n    <tr>\n      <th>3</th>\n      <td>M4A</td>\n      <td>North York</td>\n      <td>Victoria Village</td>\n    </tr>\n    <tr>\n      <th>4</th>\n      <td>M5A</td>\n      <td>Downtown Toronto</td>\n      <td>Regent Park / Harbourfront</td>\n    </tr>\n    <tr>\n      <th>5</th>\n      <td>M6A</td>\n      <td>North York</td>\n      <td>Lawrence Manor / Lawrence Heights</td>\n    </tr>\n    <tr>\n      <th>6</th>\n      <td>M7A</td>\n      <td>Downtown Toronto</td>\n      <td>Queen's Park / Ontario Provincial Government</td>\n    </tr>\n  </tbody>\n</table>\n</div>",
                        "text/plain": "  Postal code           Borough                                  Neighborhood\n2         M3A        North York                                     Parkwoods\n3         M4A        North York                              Victoria Village\n4         M5A  Downtown Toronto                    Regent Park / Harbourfront\n5         M6A        North York             Lawrence Manor / Lawrence Heights\n6         M7A  Downtown Toronto  Queen's Park / Ontario Provincial Government"
                    },
                    "execution_count": 40,
                    "metadata": {},
                    "output_type": "execute_result"
                }
            ],
            "source": "toronto_df.head()"
        },
        {
            "cell_type": "code",
            "execution_count": 39,
            "metadata": {},
            "outputs": [
                {
                    "data": {
                        "text/plain": "2                                              Parkwoods\n3                                       Victoria Village\n4                             Regent Park / Harbourfront\n5                      Lawrence Manor / Lawrence Heights\n6           Queen's Park / Ontario Provincial Government\n8                                       Islington Avenue\n9                                        Malvern / Rouge\n11                                             Don Mills\n12                      Parkview Hill / Woodbine Gardens\n13                              Garden District, Ryerson\n14                                             Glencairn\n17     West Deane Park / Princess Gardens / Martin Gr...\n18              Rouge Hill / Port Union / Highland Creek\n20                                             Don Mills\n21                                      Woodbine Heights\n22                                        St. James Town\n23                                    Humewood-Cedarvale\n26     Eringate / Bloordale Gardens / Old Burnhamthor...\n27                   Guildwood / Morningside / West Hill\n30                                           The Beaches\n31                                           Berczy Park\n32                                   Caledonia-Fairbanks\n36                                                Woburn\n39                                               Leaside\n40                                    Central Bay Street\n41                                              Christie\n45                                             Cedarbrae\n46                                     Hillcrest Village\n47     Bathurst Manor / Wilson Heights / Downsview North\n48                                      Thorncliffe Park\n                             ...                        \n111                                   North Toronto West\n112                The Annex / North Midtown / Yorkville\n113                              Parkdale / Roncesvalles\n114                Canada Post Gateway Processing Centre\n116    Kingsview Village / St. Phillips / Martin Grov...\n117                                            Agincourt\n120                                           Davisville\n121                      University of Toronto / Harbord\n122                                  Runnymede / Swansea\n126            Clarks Corners / Tam O'Shanter / Sullivan\n129                         Moore Park / Summerhill East\n130          Kensington Market / Chinatown / Grange Park\n135    Milliken / Agincourt North / Steeles East / L'...\n138    Summerhill West / Rathnelly / South Hill / For...\n139    CN Tower / King and Spadina / Railway Lands / ...\n142       New Toronto / Mimico South / Humber Bay Shores\n143    South Steeles / Silverstone / Humbergate / Jam...\n144                       Steeles West / L'Amoreaux West\n147                                             Rosedale\n148                                       Stn A PO Boxes\n151                              Alderwood / Long Branch\n152                                            Northwest\n153                                          Upper Rouge\n156                         St. James Town / Cabbagetown\n157              First Canadian Place / Underground city\n160      The Kingsway / Montgomery Road / Old Mill North\n165                                 Church and Wellesley\n168                Business reply mail Processing CentrE\n169    Old Mill South / King's Mill Park / Sunnylea /...\n178    Mimico NW / The Queensway West / South of Bloo...\nName: Neighborhood, Length: 103, dtype: object"
                    },
                    "execution_count": 39,
                    "metadata": {},
                    "output_type": "execute_result"
                }
            ],
            "source": "toronto_df.groupby(['Postal code','Borough'])['Neighborhood']"
        },
        {
            "cell_type": "code",
            "execution_count": null,
            "metadata": {},
            "outputs": [],
            "source": ""
        }
    ],
    "metadata": {
        "kernelspec": {
            "display_name": "Python 3.6",
            "language": "python",
            "name": "python3"
        },
        "language_info": {
            "codemirror_mode": {
                "name": "ipython",
                "version": 3
            },
            "file_extension": ".py",
            "mimetype": "text/x-python",
            "name": "python",
            "nbconvert_exporter": "python",
            "pygments_lexer": "ipython3",
            "version": "3.6.9"
        }
    },
    "nbformat": 4,
    "nbformat_minor": 1
}